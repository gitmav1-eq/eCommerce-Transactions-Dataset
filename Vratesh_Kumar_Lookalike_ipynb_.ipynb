{
  "nbformat": 4,
  "nbformat_minor": 0,
  "metadata": {
    "colab": {
      "provenance": []
    },
    "kernelspec": {
      "name": "python3",
      "display_name": "Python 3"
    },
    "language_info": {
      "name": "python"
    }
  },
  "cells": [
    {
      "cell_type": "code",
      "execution_count": 20,
      "metadata": {
        "id": "tY17UGE6w1uH"
      },
      "outputs": [],
      "source": [
        "# Import necessary libraries\n",
        "import pandas as pd\n",
        "from sklearn.metrics.pairwise import cosine_similarity\n",
        "from sklearn.preprocessing import StandardScaler"
      ]
    },
    {
      "cell_type": "code",
      "source": [
        "customers = pd.read_csv(\"Customers.csv\")\n",
        "products = pd.read_csv(\"Products.csv\")\n",
        "transactions = pd.read_csv(\"Transactions.csv\")"
      ],
      "metadata": {
        "id": "fHzHxybXxdpS"
      },
      "execution_count": 21,
      "outputs": []
    },
    {
      "cell_type": "code",
      "source": [
        "# Merge datasets to create a unified dataset\n",
        "transactions = transactions.merge(customers, on='CustomerID')\n",
        "transactions = transactions.merge(products, on='ProductID')"
      ],
      "metadata": {
        "id": "yB9hq0RQxlan"
      },
      "execution_count": 22,
      "outputs": []
    },
    {
      "cell_type": "code",
      "source": [
        "# Preprocessing: Create customer-level features\n",
        "customer_features = transactions.groupby('CustomerID').agg({\n",
        "    'TotalValue': 'sum',  # Total spending\n",
        "    'Quantity': 'sum',  # Total quantity purchased\n",
        "    'ProductID': 'count',  # Number of unique transactions\n",
        "    'Category': lambda x: x.mode()[0]  # Most frequent category\n",
        "}).reset_index()\n",
        "\n",
        "# Rename 'ProductID' count to 'TransactionCount' for clarity\n",
        "customer_features.rename(columns={'ProductID': 'TransactionCount'}, inplace=True)\n",
        "\n",
        "# Encode categorical features (Category) using one-hot encoding\n",
        "customer_features = pd.get_dummies(customer_features, columns=['Category'], drop_first=True)\n",
        "\n",
        "# Normalize numerical features for similarity calculation\n",
        "from sklearn.preprocessing import StandardScaler\n",
        "scaler = StandardScaler()\n",
        "normalized_features = scaler.fit_transform(customer_features.drop('CustomerID', axis=1))\n",
        "\n",
        "# Compute cosine similarity\n",
        "from sklearn.metrics.pairwise import cosine_similarity\n",
        "similarity_matrix = cosine_similarity(normalized_features)\n",
        "\n",
        "# Get the top 3 similar customers for each of the first 20 customers\n",
        "lookalike_data = {}\n",
        "for idx, customer_id in enumerate(customer_features['CustomerID'][:20]):\n",
        "    similar_indices = similarity_matrix[idx].argsort()[-4:-1][::-1]  # Top 3 excluding the customer itself\n",
        "    similar_customers = [\n",
        "        (customer_features.iloc[i]['CustomerID'], similarity_matrix[idx][i])\n",
        "        for i in similar_indices]\n",
        "    lookalike_data[customer_id] = similar_customers\n",
        "\n",
        "# Convert the lookalike data into a DataFrame for export\n",
        "lookalike_list = [\n",
        "    {'cust_id': customer, 'lookalike': lookalike, 'score': score}\n",
        "    for customer, lookalikes in lookalike_data.items()\n",
        "    for lookalike, score in lookalikes]\n",
        "lookalike_df = pd.DataFrame(lookalike_list)\n",
        "\n",
        "# Save the Lookalike Data to a CSV file\n",
        "lookalike_df.to_csv('Lookalike.csv', index=False)\n",
        "\n",
        "# Display the lookalike map for verification\n",
        "print(lookalike_data)"
      ],
      "metadata": {
        "colab": {
          "base_uri": "https://localhost:8080/"
        },
        "id": "sjTMMvdbxqi4",
        "outputId": "a6a5605c-0822-41f8-9f1c-6617b126a12c"
      },
      "execution_count": 23,
      "outputs": [
        {
          "output_type": "stream",
          "name": "stdout",
          "text": [
            "{'C0001': [('C0072', 0.9920353262922637), ('C0055', 0.9909776607327331), ('C0048', 0.9908425603270468)], 'C0002': [('C0029', 0.9998566015358691), ('C0010', 0.9890824589674211), ('C0088', 0.977761607066873)], 'C0003': [('C0160', 0.9765756505857475), ('C0086', 0.9749660452024961), ('C0038', 0.974960216277944)], 'C0004': [('C0075', 0.9930751055565259), ('C0017', 0.9904447082049586), ('C0175', 0.9880458606182625)], 'C0005': [('C0186', 0.9984740104182287), ('C0112', 0.9978769608402586), ('C0007', 0.9918529693356967)], 'C0006': [('C0117', 0.9956446719907337), ('C0168', 0.9508722973745576), ('C0064', 0.8977845048442423)], 'C0007': [('C0120', 0.9974073348127978), ('C0050', 0.9937244109197855), ('C0005', 0.9918529693356967)], 'C0008': [('C0113', 0.9539839133855204), ('C0124', 0.9253194213959769), ('C0012', 0.9019799868058399)], 'C0009': [('C0083', 0.9975450047948013), ('C0198', 0.9906799609117416), ('C0077', 0.9791575685462162)], 'C0010': [('C0029', 0.9896891999847746), ('C0002', 0.9890824589674211), ('C0176', 0.9691162067624319)], 'C0011': [('C0064', 0.9851620751681491), ('C0137', 0.9159029344355556), ('C0117', 0.882646583894877)], 'C0012': [('C0124', 0.9807076906084929), ('C0163', 0.9792039217439249), ('C0113', 0.9755839312334099)], 'C0013': [('C0143', 0.9875684163372693), ('C0099', 0.9837616579379141), ('C0145', 0.983155941166644)], 'C0014': [('C0060', 0.9995383648674626), ('C0097', 0.9992767732632051), ('C0151', 0.996419162538819)], 'C0015': [('C0123', 0.9989111169312413), ('C0063', 0.9984137117409906), ('C0078', 0.9948144310575298)], 'C0016': [('C0183', 0.9874002541130569), ('C0107', 0.9851978663548568), ('C0056', 0.9701084451705637)], 'C0017': [('C0004', 0.9904447082049586), ('C0175', 0.9822447157688586), ('C0101', 0.9798291605782378)], 'C0018': [('C0153', 0.943164717924907), ('C0169', 0.9412142049175316), ('C0171', 0.9313618220763581)], 'C0019': [('C0116', 0.972916407977638), ('C0174', 0.8805081702100749), ('C0191', 0.8703107446988588)], 'C0020': [('C0130', 0.9986031694121327), ('C0095', 0.9927683005459524), ('C0140', 0.9863282252087022)]}\n"
          ]
        }
      ]
    },
    {
      "cell_type": "code",
      "source": [
        "print(customer_features.columns)"
      ],
      "metadata": {
        "colab": {
          "base_uri": "https://localhost:8080/"
        },
        "id": "4D3i-7_Ly4nT",
        "outputId": "2e23ce8c-b7df-4929-8276-284f8b97ee8a"
      },
      "execution_count": 24,
      "outputs": [
        {
          "output_type": "stream",
          "name": "stdout",
          "text": [
            "Index(['CustomerID', 'TotalValue', 'Quantity', 'TransactionCount',\n",
            "       'Category_Clothing', 'Category_Electronics', 'Category_Home Decor'],\n",
            "      dtype='object')\n"
          ]
        }
      ]
    },
    {
      "cell_type": "code",
      "source": [
        "# Encode categorical features (Category) using one-hot encoding\n",
        "customer_features = pd.get_dummies(customer_features, columns=['Category_Electronics','Category_Home Decor'], drop_first=True)\n"
      ],
      "metadata": {
        "id": "dZ-sSYUKyizC"
      },
      "execution_count": 25,
      "outputs": []
    },
    {
      "cell_type": "code",
      "source": [
        "# Normalize numerical features for similarity calculation\n",
        "scaler = StandardScaler()\n",
        "normalized_features = scaler.fit_transform(customer_features.drop('CustomerID', axis=1))\n"
      ],
      "metadata": {
        "id": "17QhAiXLzW7z"
      },
      "execution_count": 26,
      "outputs": []
    },
    {
      "cell_type": "code",
      "source": [
        "# Compute cosine similarity\n",
        "similarity_matrix = cosine_similarity(normalized_features)"
      ],
      "metadata": {
        "id": "-mHChzf4zilQ"
      },
      "execution_count": 27,
      "outputs": []
    },
    {
      "cell_type": "code",
      "source": [
        "# Get the top 3 similar customers for each of the first 20 customers\n",
        "lookalike_data = {}\n",
        "for idx, customer_id in enumerate(customer_features['CustomerID'][:20]):\n",
        "    similar_indices = similarity_matrix[idx].argsort()[-4:-1][::-1]  # Top 3 excluding the customer itself\n",
        "    similar_customers = [\n",
        "        (customer_features.iloc[i]['CustomerID'], similarity_matrix[idx][i])\n",
        "        for i in similar_indices\n",
        "    ]\n",
        "    lookalike_data[customer_id] = similar_customers"
      ],
      "metadata": {
        "id": "kx30bc2dzmli"
      },
      "execution_count": 28,
      "outputs": []
    },
    {
      "cell_type": "code",
      "source": [
        "# Convert the lookalike data into a DataFrame for export\n",
        "lookalike_list = [\n",
        "    {'cust_id': customer, 'lookalikes': lookalike, 'score': score}\n",
        "    for customer, lookalikes in lookalike_data.items()\n",
        "    for lookalike, score in lookalikes\n",
        "]\n",
        "\n",
        "lookalike_df = pd.DataFrame(lookalike_list)"
      ],
      "metadata": {
        "id": "UCmBrJSEzrnF"
      },
      "execution_count": 29,
      "outputs": []
    },
    {
      "cell_type": "code",
      "source": [
        "# Save the Lookalike Data to a CSV file\n",
        "lookalike_df.to_csv('Lookalike.csv', index=False)"
      ],
      "metadata": {
        "id": "d--oWpTnzuiC"
      },
      "execution_count": 30,
      "outputs": []
    },
    {
      "cell_type": "code",
      "source": [
        "# Display the lookalike map for verification\n",
        "print(lookalike_data)"
      ],
      "metadata": {
        "colab": {
          "base_uri": "https://localhost:8080/"
        },
        "id": "jW-m3DNQzzPA",
        "outputId": "21efaae1-f777-4122-9edf-48fe1eb544d5"
      },
      "execution_count": 31,
      "outputs": [
        {
          "output_type": "stream",
          "name": "stdout",
          "text": [
            "{'C0001': [('C0072', 0.9920353262922637), ('C0055', 0.9909776607327331), ('C0048', 0.9908425603270468)], 'C0002': [('C0029', 0.9998566015358691), ('C0010', 0.9890824589674211), ('C0088', 0.977761607066873)], 'C0003': [('C0160', 0.9765756505857475), ('C0086', 0.9749660452024961), ('C0038', 0.974960216277944)], 'C0004': [('C0075', 0.9930751055565259), ('C0017', 0.9904447082049586), ('C0175', 0.9880458606182625)], 'C0005': [('C0186', 0.9984740104182287), ('C0112', 0.9978769608402586), ('C0007', 0.9918529693356967)], 'C0006': [('C0117', 0.9956446719907337), ('C0168', 0.9508722973745576), ('C0064', 0.8977845048442423)], 'C0007': [('C0120', 0.9974073348127978), ('C0050', 0.9937244109197855), ('C0005', 0.9918529693356967)], 'C0008': [('C0113', 0.9539839133855204), ('C0124', 0.9253194213959769), ('C0012', 0.9019799868058399)], 'C0009': [('C0083', 0.9975450047948013), ('C0198', 0.9906799609117416), ('C0077', 0.9791575685462162)], 'C0010': [('C0029', 0.9896891999847746), ('C0002', 0.9890824589674211), ('C0176', 0.9691162067624319)], 'C0011': [('C0064', 0.9851620751681491), ('C0137', 0.9159029344355556), ('C0117', 0.882646583894877)], 'C0012': [('C0124', 0.9807076906084929), ('C0163', 0.9792039217439249), ('C0113', 0.9755839312334099)], 'C0013': [('C0143', 0.9875684163372693), ('C0099', 0.9837616579379141), ('C0145', 0.983155941166644)], 'C0014': [('C0060', 0.9995383648674626), ('C0097', 0.9992767732632051), ('C0151', 0.996419162538819)], 'C0015': [('C0123', 0.9989111169312413), ('C0063', 0.9984137117409906), ('C0078', 0.9948144310575298)], 'C0016': [('C0183', 0.9874002541130569), ('C0107', 0.9851978663548568), ('C0056', 0.9701084451705637)], 'C0017': [('C0004', 0.9904447082049586), ('C0175', 0.9822447157688586), ('C0101', 0.9798291605782378)], 'C0018': [('C0153', 0.943164717924907), ('C0169', 0.9412142049175316), ('C0171', 0.9313618220763581)], 'C0019': [('C0116', 0.972916407977638), ('C0174', 0.8805081702100749), ('C0191', 0.8703107446988588)], 'C0020': [('C0130', 0.9986031694121327), ('C0095', 0.9927683005459524), ('C0140', 0.9863282252087022)]}\n"
          ]
        }
      ]
    },
    {
      "cell_type": "code",
      "source": [
        "from sklearn.metrics import accuracy_score\n",
        "\n",
        "# Assuming y_true and y_pred are lists of customer IDs representing actual vs recommended customers\n",
        "# Example:\n",
        "y_true = ['C0005', 'C0032', 'C0010']  # Actual similar customers for C0001\n",
        "y_pred = ['C0005', 'C0010', 'C0032']  # Recommended similar customers for C0001\n",
        "\n",
        "# Compute accuracy (percentage of correct recommendations)\n",
        "accuracy = accuracy_score(y_true, y_pred)\n",
        "print(f'Accuracy: {accuracy * 100:.2f}%')\n"
      ],
      "metadata": {
        "colab": {
          "base_uri": "https://localhost:8080/"
        },
        "id": "_Tw-DM0h0tX0",
        "outputId": "c8c33b4a-80a2-4ef8-c790-e95335639135"
      },
      "execution_count": 32,
      "outputs": [
        {
          "output_type": "stream",
          "name": "stdout",
          "text": [
            "Accuracy: 33.33%\n"
          ]
        }
      ]
    },
    {
      "cell_type": "code",
      "source": [
        "# Let's assume 'lookalike_dict' is a dictionary with actual vs predicted lookalikes for each customer\n",
        "lookalike_dict = {\n",
        "    'C0001': (['C0005', 'C0032', 'C0010'], ['C0005', 'C0010', 'C0032']),\n",
        "    'C0002': (['C0009', 'C0045', 'C0012'], ['C0009', 'C0045', 'C0013']),\n",
        "    # Add more customers as needed\n",
        "}\n",
        "\n",
        "# Initialize an accuracy list\n",
        "accuracies = []\n",
        "\n",
        "# Loop through the customers\n",
        "for cust_id, (y_true, y_pred) in lookalike_dict.items():\n",
        "    accuracy = accuracy_score(y_true, y_pred)\n",
        "    accuracies.append(accuracy)\n",
        "\n",
        "# Compute overall accuracy\n",
        "overall_accuracy = sum(accuracies) / len(accuracies)\n",
        "print(f'Overall Accuracy: {overall_accuracy * 100:.2f}%')\n"
      ],
      "metadata": {
        "id": "LTVeS87l00rH",
        "outputId": "08a00afd-583f-4da2-f18e-9b65cac41361",
        "colab": {
          "base_uri": "https://localhost:8080/"
        }
      },
      "execution_count": 33,
      "outputs": [
        {
          "output_type": "stream",
          "name": "stdout",
          "text": [
            "Overall Accuracy: 50.00%\n"
          ]
        }
      ]
    }
  ]
}